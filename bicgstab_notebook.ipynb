{
 "cells": [
  {
   "cell_type": "markdown",
   "metadata": {},
   "source": [
    "# BiCGStab algorithm implementation\n",
    "Programming language: Julia"
   ]
  },
  {
   "cell_type": "code",
   "execution_count": 1,
   "metadata": {},
   "outputs": [],
   "source": [
    "# imports\n",
    "using LinearAlgebra"
   ]
  },
  {
   "cell_type": "code",
   "execution_count": 2,
   "metadata": {},
   "outputs": [
    {
     "data": {
      "text/plain": [
       "1.0e-5"
      ]
     },
     "execution_count": 2,
     "metadata": {},
     "output_type": "execute_result"
    }
   ],
   "source": [
    "# test configuration\n",
    "A = [1.0 1.0 1.0; 0 2.0 5.0; 2.0 5.0 -1.0]\n",
    "B = [6.0; -4.0; 27.0]\n",
    "iterations = 100\n",
    "x0 = [0.0; 0.0; 0.0]\n",
    "accuracy = 1e-5"
   ]
  },
  {
   "cell_type": "code",
   "execution_count": 3,
   "metadata": {},
   "outputs": [
    {
     "data": {
      "text/plain": [
       "bicgstab (generic function with 1 method)"
      ]
     },
     "execution_count": 3,
     "metadata": {},
     "output_type": "execute_result"
    }
   ],
   "source": [
    "function bicgstab(A, B, init_guess, iterations, accuracy)\n",
    "    x_prev = init_guess\n",
    "    r_prev = B - A*x_prev\n",
    "    r0_arb = r_prev\n",
    "    rho_prev = alpha = omega_prev = 1.0\n",
    "    v_prev = p_prev = rho = 0.0\n",
    "    result = NaN\n",
    "    for iter = 1:iterations\n",
    "        rho = dot(r0_arb, r_prev)\n",
    "        beta = (rho/rho_prev) * (alpha/omega_prev)\n",
    "        p = r_prev .+ (beta* (p_prev - omega_prev * v_prev))\n",
    "        v = A * p\n",
    "        alpha = rho'/(dot(r0_arb, v))\n",
    "        h = x_prev + alpha*p\n",
    "        s = r_prev - alpha*v\n",
    "        if(norm(s) < accuracy)\n",
    "            result = h\n",
    "            break\n",
    "        end\n",
    "        t = A * s\n",
    "        omega = dot(t, s) / dot(t, t)\n",
    "        x = h + omega*s\n",
    "        r = s - omega*t\n",
    "        if(norm(r) < accuracy)\n",
    "            result = x\n",
    "            break\n",
    "        end\n",
    "        r_prev = r\n",
    "        x_prev = x\n",
    "        p_prev = p\n",
    "        v_prev = v\n",
    "        omega_prev = omega\n",
    "        rho_prev = rho\n",
    "    end\n",
    "    return result\n",
    "end"
   ]
  },
  {
   "cell_type": "code",
   "execution_count": 4,
   "metadata": {},
   "outputs": [
    {
     "data": {
      "text/plain": [
       "3-element Vector{Float64}:\n",
       "  5.000000000000617\n",
       "  2.9999999999997495\n",
       " -1.9999999999999036"
      ]
     },
     "execution_count": 4,
     "metadata": {},
     "output_type": "execute_result"
    }
   ],
   "source": [
    "bicgstab(A, B, x0, iterations, accuracy)"
   ]
  }
 ],
 "metadata": {
  "kernelspec": {
   "display_name": "Julia 1.6.1",
   "language": "julia",
   "name": "julia-1.6"
  },
  "language_info": {
   "file_extension": ".jl",
   "mimetype": "application/julia",
   "name": "julia",
   "version": "1.6.1"
  }
 },
 "nbformat": 4,
 "nbformat_minor": 4
}
