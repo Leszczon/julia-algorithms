{
 "cells": [
  {
   "cell_type": "markdown",
   "metadata": {},
   "source": [
    "# Implementacja algorytmu BiCGStab\n",
    "Język programowania Julia"
   ]
  },
  {
   "cell_type": "code",
   "execution_count": 62,
   "metadata": {},
   "outputs": [],
   "source": [
    "# imports\n",
    "using LinearAlgebra"
   ]
  },
  {
   "cell_type": "code",
   "execution_count": 63,
   "metadata": {},
   "outputs": [
    {
     "data": {
      "text/plain": [
       "3-element Vector{Float64}:\n",
       "  6.0\n",
       " -4.0\n",
       " 27.0"
      ]
     },
     "execution_count": 63,
     "metadata": {},
     "output_type": "execute_result"
    }
   ],
   "source": [
    "# linear system to solve\n",
    "A = [1.0 1.0 1.0; 0 2.0 5.0; 2.0 5.0 -1.0]\n",
    "B = [6.0; -4.0; 27.0]"
   ]
  },
  {
   "cell_type": "code",
   "execution_count": 49,
   "metadata": {},
   "outputs": [
    {
     "data": {
      "text/plain": [
       "1.0e-5"
      ]
     },
     "execution_count": 49,
     "metadata": {},
     "output_type": "execute_result"
    }
   ],
   "source": [
    "# starting configuration\n",
    "iterations = 100\n",
    "x0 = [0.0; 0.0; 0.0]\n",
    "r0 = B - A*x0\n",
    "r0_arb = r0\n",
    "rho0 = 1.0\n",
    "alpha = 1.0\n",
    "omega0 = 1.0\n",
    "v0 = 0.0\n",
    "p0 = 0.0\n",
    "rho=0.0\n",
    "result = 0.0\n",
    "wynik = 0.0\n",
    "accuracy = 1e-5"
   ]
  },
  {
   "cell_type": "code",
   "execution_count": 48,
   "metadata": {},
   "outputs": [
    {
     "name": "stdout",
     "output_type": "stream",
     "text": [
      "1\n",
      "2\n",
      "3\n",
      "[5.000000000000617, 2.9999999999997495, -1.9999999999999036]\n"
     ]
    }
   ],
   "source": [
    "for iter = 1:iterations\n",
    "    println(iter)\n",
    "    rho = dot(r0_arb, r0)\n",
    "    beta = (rho/rho0) * (alpha/omega0)\n",
    "    p = r0 .+ (beta* (p0 - omega0 * v0))\n",
    "    v = A * p\n",
    "    alpha = rho'/(dot(r0_arb, v))\n",
    "    h = x0 + alpha*p\n",
    "    s = r0 - alpha*v\n",
    "    if(norm(s) < 1e-5)\n",
    "        wynik = h\n",
    "        break\n",
    "    end\n",
    "    t = A * s\n",
    "    omega = dot(t, s) / dot(t, t)\n",
    "    x = h + omega*s\n",
    "    r = s - omega*t\n",
    "    if(norm(r) < 1e-5)\n",
    "        wynik = x\n",
    "        break\n",
    "    end\n",
    "    r0 = r\n",
    "    x0 = x\n",
    "    p0 = p\n",
    "    v0 = v\n",
    "    omega0 = omega\n",
    "    rho0 = rho\n",
    "end\n",
    "println(wynik)"
   ]
  },
  {
   "cell_type": "code",
   "execution_count": 70,
   "metadata": {},
   "outputs": [
    {
     "data": {
      "text/plain": [
       "bicgstab (generic function with 1 method)"
      ]
     },
     "execution_count": 70,
     "metadata": {},
     "output_type": "execute_result"
    }
   ],
   "source": [
    "function bicgstab(A, B, init_guess, iterations, accuracy)\n",
    "    x_prev = init_guess\n",
    "    r_prev = B - A*x_prev\n",
    "    r0_arb = r_prev\n",
    "    rho_prev = alpha = omega_prev = 1.0\n",
    "    v_prev = p_prev = rho = 0.0\n",
    "    result = NaN\n",
    "    for iter = 1:iterations\n",
    "        rho = dot(r0_arb, r_prev)\n",
    "        beta = (rho/rho_prev) * (alpha/omega_prev)\n",
    "        p = r_prev .+ (beta* (p_prev - omega_prev * v_prev))\n",
    "        v = A * p\n",
    "        alpha = rho'/(dot(r0_arb, v))\n",
    "        h = x_prev + alpha*p\n",
    "        s = r_prev - alpha*v\n",
    "        if(norm(s) < accuracy)\n",
    "            result = h\n",
    "            break\n",
    "        end\n",
    "        t = A * s\n",
    "        omega = dot(t, s) / dot(t, t)\n",
    "        x = h + omega*s\n",
    "        r = s - omega*t\n",
    "        if(norm(r) < accuracy)\n",
    "            result = x\n",
    "            break\n",
    "        end\n",
    "        r_prev = r\n",
    "        x_prev = x\n",
    "        p_prev = p\n",
    "        v_prev = v\n",
    "        omega_prev = omega\n",
    "        rho_prev = rho\n",
    "    end\n",
    "    return result\n",
    "end"
   ]
  },
  {
   "cell_type": "code",
   "execution_count": 71,
   "metadata": {},
   "outputs": [
    {
     "data": {
      "text/plain": [
       "3-element Vector{Float64}:\n",
       "  5.000000000000617\n",
       "  2.9999999999997495\n",
       " -1.9999999999999036"
      ]
     },
     "execution_count": 71,
     "metadata": {},
     "output_type": "execute_result"
    }
   ],
   "source": [
    "x0 = [0.0; 0.0; 0.0]\n",
    "bicgstab(A, B, x0, 100, 10e-5)"
   ]
  },
  {
   "cell_type": "code",
   "execution_count": null,
   "metadata": {},
   "outputs": [],
   "source": []
  },
  {
   "cell_type": "code",
   "execution_count": null,
   "metadata": {},
   "outputs": [],
   "source": []
  }
 ],
 "metadata": {
  "kernelspec": {
   "display_name": "Julia 1.6.1",
   "language": "julia",
   "name": "julia-1.6"
  },
  "language_info": {
   "file_extension": ".jl",
   "mimetype": "application/julia",
   "name": "julia",
   "version": "1.6.1"
  }
 },
 "nbformat": 4,
 "nbformat_minor": 4
}
