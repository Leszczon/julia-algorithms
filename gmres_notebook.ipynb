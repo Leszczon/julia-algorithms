{
 "cells": [
  {
   "cell_type": "code",
   "execution_count": 1,
   "id": "b70c9d12",
   "metadata": {},
   "outputs": [
    {
     "data": {
      "text/plain": [
       "gmres (generic function with 1 method)"
      ]
     },
     "execution_count": 1,
     "metadata": {},
     "output_type": "execute_result"
    }
   ],
   "source": [
    "using LinearAlgebra\n",
    "using SparseArrays\n",
    "using Distributions\n",
    "using PyCall\n",
    "\n",
    "@pyimport numpy \n",
    "\n",
    "function gmres(A, B, X0, max_iter)\n",
    "    r = B .- A * X0\n",
    "    x = Array{Float64, 2}[]\n",
    "    q = Array{Any}(zeros(max_iter))\n",
    "    #push!(x, r)\n",
    "    q[1] = r/norm(r)\n",
    "    h = zeros((max_iter + 1, max_iter))\n",
    "    \n",
    "    for m=1:max_iter\n",
    "        y = A * q[m]\n",
    "        \n",
    "        for j=1:m-1\n",
    "            h[j, m] = (q[j]' * y)[1]\n",
    "            y = y - h[j, m] * q[j] \n",
    "        end\n",
    "        \n",
    "        h[m + 1, m] = norm(y)\n",
    "        \n",
    "        if (h[m + 1, m] != 0) && (m != max_iter)\n",
    "            q[m + 1] = y / h[m + 1, m]\n",
    "        end\n",
    "\n",
    "        b = zeros(max_iter + 1)\n",
    "        b[1] = norm(r)\n",
    "        result = (h \\ b)\n",
    "\n",
    "        if m > max_iter - 2\n",
    "            z = reduce(hcat, q[:])\n",
    "        else\n",
    "            z = q\n",
    "        end\n",
    "\n",
    "        append!(x, [numpy.dot(z, result)+X0])\n",
    "    end\n",
    "    \n",
    "    return x \n",
    "end\n"
   ]
  },
  {
   "cell_type": "code",
   "execution_count": 2,
   "id": "3b3e4a1b",
   "metadata": {},
   "outputs": [
    {
     "name": "stderr",
     "output_type": "stream",
     "text": [
      "<__array_function__ internals>:5: VisibleDeprecationWarning: Creating an ndarray from ragged nested sequences (which is a list-or-tuple of lists-or-tuples-or ndarrays with different lengths or shapes) is deprecated. If you meant to do this, you must specify 'dtype=object' when creating the ndarray.\r\n"
     ]
    },
    {
     "data": {
      "text/plain": [
       "20×1 Matrix{Float64}:\n",
       " -0.2148566451867524\n",
       "  0.4763420382091518\n",
       " -0.24706307023609997\n",
       " -0.29802171734052085\n",
       "  1.268744193039384\n",
       " -0.1751501232005982\n",
       " -0.020171428368478767\n",
       "  0.031726529445988305\n",
       "  0.4382589436215707\n",
       "  0.7104935194364352\n",
       " -0.13807859927913185\n",
       "  0.2971068522997585\n",
       "  0.23771295717614582\n",
       "  0.4444602751966018\n",
       "  1.3488285301349199\n",
       " -0.8662739035478776\n",
       "  0.4454717996329342\n",
       " -0.5529992101992618\n",
       "  0.23360028990629322\n",
       "  0.11280668121168735"
      ]
     },
     "execution_count": 2,
     "metadata": {},
     "output_type": "execute_result"
    }
   ],
   "source": [
    "A = Symmetric(sprand(20,20,0.5))\n",
    "B = rand(Uniform(0,1), 20, 1)\n",
    "X0 = rand(Uniform(0,1), 20, 1)\n",
    "max_iter = 1000\n",
    "x = gmres(A, B, X0, max_iter)\n",
    "x[max_iter]"
   ]
  },
  {
   "cell_type": "code",
   "execution_count": 3,
   "id": "8b6440c7",
   "metadata": {},
   "outputs": [
    {
     "data": {
      "text/plain": [
       "20×1 Matrix{Float64}:\n",
       " -0.21485664518850192\n",
       "  0.4763420382065191\n",
       " -0.24706307023404106\n",
       " -0.2980217173394895\n",
       "  1.268744193040703\n",
       " -0.17515012319978135\n",
       " -0.020171428372504963\n",
       "  0.03172652944453358\n",
       "  0.43825894361804907\n",
       "  0.7104935194387935\n",
       " -0.13807859927718447\n",
       "  0.2971068523053185\n",
       "  0.23771295717306612\n",
       "  0.44446027519517906\n",
       "  1.3488285301373535\n",
       " -0.866273903548658\n",
       "  0.445471799635013\n",
       " -0.5529992101998369\n",
       "  0.23360028990701626\n",
       "  0.112806681209323"
      ]
     },
     "execution_count": 3,
     "metadata": {},
     "output_type": "execute_result"
    }
   ],
   "source": [
    "A\\B"
   ]
  },
  {
   "cell_type": "code",
   "execution_count": null,
   "id": "039f47a7",
   "metadata": {},
   "outputs": [],
   "source": []
  }
 ],
 "metadata": {
  "kernelspec": {
   "display_name": "Julia 1.6.1",
   "language": "julia",
   "name": "julia-1.6"
  },
  "language_info": {
   "file_extension": ".jl",
   "mimetype": "application/julia",
   "name": "julia",
   "version": "1.6.1"
  }
 },
 "nbformat": 4,
 "nbformat_minor": 5
}
