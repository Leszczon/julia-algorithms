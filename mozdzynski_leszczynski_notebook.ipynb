{
 "cells": [
  {
   "cell_type": "markdown",
   "id": "f4917fa6",
   "metadata": {},
   "source": [
    "# GMRES"
   ]
  },
  {
   "cell_type": "code",
   "execution_count": 77,
   "id": "b70c9d12",
   "metadata": {},
   "outputs": [
    {
     "data": {
      "text/plain": [
       "gmres (generic function with 1 method)"
      ]
     },
     "execution_count": 77,
     "metadata": {},
     "output_type": "execute_result"
    }
   ],
   "source": [
    "using LinearAlgebra\n",
    "using SparseArrays\n",
    "using Distributions\n",
    "using PyCall\n",
    "using Statistics\n",
    "using BenchmarkTools\n",
    "\n",
    "@pyimport numpy \n",
    "\n",
    "function gmres(A, B, X0, max_iter)\n",
    "    r = B .- A * X0\n",
    "    x = Array{Float64, 2}[]\n",
    "    q = Array{Any}(zeros(max_iter)) #array any, gdyż przechowuje i wektory i pojedyncze liczby \n",
    "    q[1] = r/norm(r)\n",
    "    h = zeros((max_iter + 1, max_iter))\n",
    "    \n",
    "    for m=1:max_iter\n",
    "        y = A * q[m]\n",
    "        \n",
    "        for j=1:m-1\n",
    "            h[j, m] = (q[j]' * y)[1]\n",
    "            y = y - h[j, m] * q[j] \n",
    "        end\n",
    "        \n",
    "        h[m + 1, m] = norm(y)\n",
    "        \n",
    "        if (h[m + 1, m] != 0) && (m != max_iter)\n",
    "            q[m + 1] = y / h[m + 1, m]\n",
    "        end\n",
    "\n",
    "        b = zeros(max_iter + 1)\n",
    "        b[1] = norm(r)\n",
    "        result = (h \\ b)\n",
    "\n",
    "        if m > max_iter - 2\n",
    "            z = reduce(hcat, q[:])\n",
    "        else\n",
    "            z = q\n",
    "        end\n",
    "\n",
    "        append!(x, [numpy.dot(z, result)+X0])\n",
    "    end\n",
    "    \n",
    "    return x[max_iter]\n",
    "end\n"
   ]
  },
  {
   "cell_type": "code",
   "execution_count": 122,
   "id": "a42cc467",
   "metadata": {},
   "outputs": [
    {
     "data": {
      "text/plain": [
       "restarted_gmres (generic function with 1 method)"
      ]
     },
     "execution_count": 122,
     "metadata": {},
     "output_type": "execute_result"
    }
   ],
   "source": [
    "function restarted_gmres(A, B, X0, max_iter, res)\n",
    "    new_x0 = gmres(A, B, X0, res)\n",
    "    for i=2*res:res:max_iter\n",
    "        new_x0 = gmres(A, B, new_x0, res)\n",
    "    end\n",
    "    return new_x0\n",
    "end"
   ]
  },
  {
   "cell_type": "code",
   "execution_count": 79,
   "id": "3b3e4a1b",
   "metadata": {},
   "outputs": [
    {
     "data": {
      "text/plain": [
       "40×1 Matrix{Float64}:\n",
       " 0.7606391431179831\n",
       " 0.39117343244311686\n",
       " 0.46026923116094154\n",
       " 0.29683241626620904\n",
       " 0.002773703427796148\n",
       " 0.7191563896885242\n",
       " 0.22473453380192843\n",
       " 0.215108054220845\n",
       " 0.026243794078913085\n",
       " 0.05336168029597621\n",
       " 0.5789618792355196\n",
       " 0.6858960060470822\n",
       " 0.9040354101287693\n",
       " ⋮\n",
       " 0.36470026961515334\n",
       " 0.4148052417754269\n",
       " 0.276141367183105\n",
       " 0.2904156259725763\n",
       " 0.5787885192262106\n",
       " 0.6942110928738621\n",
       " 0.856924086639272\n",
       " 0.0369590897190486\n",
       " 0.978214805287261\n",
       " 0.4203278026011259\n",
       " 0.571966613074075\n",
       " 0.9335881859763671"
      ]
     },
     "execution_count": 79,
     "metadata": {},
     "output_type": "execute_result"
    }
   ],
   "source": [
    "#generacja macierzy A oraz wektorów B i X0\n",
    "A = Symmetric(sprand(40,40,0.5))\n",
    "B = rand(Uniform(0,1), 40, 1)\n",
    "X0 = rand(Uniform(0,1), 40, 1)"
   ]
  },
  {
   "cell_type": "code",
   "execution_count": 166,
   "id": "177a09f9",
   "metadata": {},
   "outputs": [
    {
     "data": {
      "text/plain": [
       "100"
      ]
     },
     "execution_count": 166,
     "metadata": {},
     "output_type": "execute_result"
    }
   ],
   "source": [
    "#ustalenie parametrów początkowych\n",
    "max_iter = 300\n",
    "res = 100"
   ]
  },
  {
   "cell_type": "code",
   "execution_count": 167,
   "id": "62be1bb1",
   "metadata": {},
   "outputs": [
    {
     "name": "stdout",
     "output_type": "stream",
     "text": [
      "  3.079 s (880164 allocations: 551.34 MiB)\n"
     ]
    },
    {
     "data": {
      "text/plain": [
       "40×1 Matrix{Float64}:\n",
       " -0.23204846819451797\n",
       " -8.308101367080049\n",
       " -2.567115471194662\n",
       "  1.4508256369342507\n",
       "  0.4831340884389743\n",
       " -4.164164762719872\n",
       "  3.8632384487738483\n",
       "  2.6840618379650496\n",
       " -2.8874337230338574\n",
       " -1.1157877064153898\n",
       "  0.5034822825095557\n",
       "  0.37794828944424896\n",
       " -1.599963048148649\n",
       "  ⋮\n",
       "  4.50823491731588\n",
       " -3.9779821139120557\n",
       "  2.2049374616721344\n",
       "  1.5586441408086704\n",
       " -0.6193247677578106\n",
       "  4.163307412931417\n",
       "  0.8833702080808207\n",
       "  4.947285551984006\n",
       "  0.12427055400593101\n",
       "  0.010667145736592332\n",
       " -1.1105176686001983\n",
       "  3.3775810351552003"
      ]
     },
     "execution_count": 167,
     "metadata": {},
     "output_type": "execute_result"
    }
   ],
   "source": [
    "#uruchomienie bazowego gmres\n",
    "@btime x1 = gmres(A, B, X0, max_iter)"
   ]
  },
  {
   "cell_type": "code",
   "execution_count": 168,
   "id": "05d8ae73",
   "metadata": {},
   "outputs": [
    {
     "name": "stdout",
     "output_type": "stream",
     "text": [
      "  3.036 s (3088175 allocations: 1.11 GiB)\n"
     ]
    },
    {
     "data": {
      "text/plain": [
       "40×1 Matrix{Float64}:\n",
       " -0.28540462757055657\n",
       " -8.102495879776638\n",
       " -2.453003343224105\n",
       "  1.419308479527588\n",
       "  0.5084585608950501\n",
       " -4.033054599013598\n",
       "  3.725406033193327\n",
       "  2.5557361944363515\n",
       " -2.881989628385638\n",
       " -1.0559358265819117\n",
       "  0.5081395805858652\n",
       "  0.3210887879926558\n",
       " -1.5530126375830968\n",
       "  ⋮\n",
       "  4.380354581793889\n",
       " -3.8765806226586905\n",
       "  2.221376425361447\n",
       "  1.5086395644035393\n",
       " -0.5651573373182394\n",
       "  3.995037434937755\n",
       "  0.8643909365585933\n",
       "  4.834778576252543\n",
       "  0.1481663967369528\n",
       " -0.006967589132115174\n",
       " -1.1487776544928883\n",
       "  3.2423494685363874"
      ]
     },
     "execution_count": 168,
     "metadata": {},
     "output_type": "execute_result"
    }
   ],
   "source": [
    "#uruchomienie restarted gmres\n",
    "@btime x2 = restarted_gmres(A, B, X0, max_iter*10, res)"
   ]
  },
  {
   "cell_type": "code",
   "execution_count": 169,
   "id": "8b6440c7",
   "metadata": {},
   "outputs": [
    {
     "data": {
      "text/plain": [
       "40×1 Matrix{Float64}:\n",
       " -0.25532278236600947\n",
       " -8.198219122561914\n",
       " -2.5113421107964546\n",
       "  1.434249642264954\n",
       "  0.49184416738822717\n",
       " -4.096740594700578\n",
       "  3.793049525608861\n",
       "  2.6261453449783696\n",
       " -2.8776861685827737\n",
       " -1.0885906250514517\n",
       "  0.500397443577207\n",
       "  0.35423012899185974\n",
       " -1.5753573211032137\n",
       "  ⋮\n",
       "  4.444602106411869\n",
       " -3.9234404956431406\n",
       "  2.202711403072487\n",
       "  1.5336807858085424\n",
       " -0.5936964952275787\n",
       "  4.080017202018842\n",
       "  0.8762546022177471\n",
       "  4.884134748666695\n",
       "  0.13406529528867334\n",
       "  0.0020413069147766872\n",
       " -1.1244080195620627\n",
       "  3.311790010828837"
      ]
     },
     "execution_count": 169,
     "metadata": {},
     "output_type": "execute_result"
    }
   ],
   "source": [
    "#julia linear system solver\n",
    "x3 = A\\B"
   ]
  },
  {
   "cell_type": "code",
   "execution_count": 170,
   "id": "039f47a7",
   "metadata": {},
   "outputs": [
    {
     "name": "stdout",
     "output_type": "stream",
     "text": [
      "restarted:\n",
      "0.0034461255578947885\n",
      "base:\n",
      "2.4262008063652113e-6\n"
     ]
    }
   ],
   "source": [
    "#absolute error\n",
    "abs_res = broadcast(abs, x2-x3)\n",
    "abs_normal = broadcast(abs, x1-x3)\n",
    "\n",
    "mean_abs_res = mean(abs_res)\n",
    "mean_abs_normal = mean(abs_normal)\n",
    "\n",
    "println(\"restarted:\")\n",
    "println(mean_abs_res)\n",
    "println(\"base:\")\n",
    "println(mean_abs_normal)"
   ]
  },
  {
   "cell_type": "code",
   "execution_count": 171,
   "id": "d11f5d93",
   "metadata": {},
   "outputs": [
    {
     "name": "stdout",
     "output_type": "stream",
     "text": [
      "restarted:\n",
      "1.1366593399405238\n",
      "base:\n",
      "0.000813883139218001\n"
     ]
    }
   ],
   "source": [
    "#relative error (percentage)\n",
    "rel_res = abs_res./x3 * 100\n",
    "rel_normal = abs_normal./x3 * 100\n",
    "\n",
    "mean_rel_res = abs(mean(rel_res))\n",
    "mean_rel_normal = abs(mean(rel_normal))\n",
    "\n",
    "println(\"restarted:\")\n",
    "println(mean_rel_res)\n",
    "println(\"base:\")\n",
    "println(mean_rel_normal)"
   ]
  },
  {
   "cell_type": "markdown",
   "id": "f9b31fb9",
   "metadata": {},
   "source": [
    "# BICGSTAB"
   ]
  },
  {
   "cell_type": "code",
   "execution_count": 172,
   "id": "eb3bafdb",
   "metadata": {},
   "outputs": [
    {
     "data": {
      "text/plain": [
       "3-element Vector{Float64}:\n",
       "  6.0\n",
       " -4.0\n",
       " 27.0"
      ]
     },
     "execution_count": 172,
     "metadata": {},
     "output_type": "execute_result"
    }
   ],
   "source": [
    "# linear system to solve\n",
    "A = [1.0 1.0 1.0; 0 2.0 5.0; 2.0 5.0 -1.0]\n",
    "B = [6.0; -4.0; 27.0]"
   ]
  },
  {
   "cell_type": "code",
   "execution_count": 173,
   "id": "621781a0",
   "metadata": {},
   "outputs": [
    {
     "data": {
      "text/plain": [
       "0.0"
      ]
     },
     "execution_count": 173,
     "metadata": {},
     "output_type": "execute_result"
    }
   ],
   "source": [
    "# starting configuration\n",
    "iterations = 100\n",
    "x0 = [0.0; 0.0; 0.0]\n",
    "r0 = B - A*x0\n",
    "r00 = r0\n",
    "rho0 = 1.0\n",
    "alpha = 1.0\n",
    "omega0 = 1.0\n",
    "v0 = 0.0\n",
    "p0 = 0.0\n",
    "rho=0.0"
   ]
  },
  {
   "cell_type": "code",
   "execution_count": 174,
   "id": "3af93d54",
   "metadata": {},
   "outputs": [
    {
     "data": {
      "text/plain": [
       "bicgstab (generic function with 1 method)"
      ]
     },
     "execution_count": 174,
     "metadata": {},
     "output_type": "execute_result"
    }
   ],
   "source": [
    "function bicgstab(A, B, x0, iterations)\n",
    "    r0 = B - A*x0\n",
    "    r00 = r0\n",
    "    rho0 = 1.0\n",
    "    alpha = 1.0\n",
    "    omega0 = 1.0\n",
    "    v0 = 0.0\n",
    "    p0 = 0.0\n",
    "    rho=0.0\n",
    "    for iter = 1:iterations\n",
    "        println(r0)\n",
    "        rho = r00*r0'\n",
    "        beta = (rho/rho0) * (alpha/omega0)\n",
    "#     p = r0 + beta * (p0 - omega0 * v0)\n",
    "        p = [r0;(beta * (p0 - omega0 * v0))]  # to pewnie źle\n",
    "        v = A .* p\n",
    "        alpha = rho/dot(r00,v)\n",
    "        h = x0 + alpha*p\n",
    "    # tu powinno być sprawdzanie dokładności h i jak będzie dobra to wyjdź z pętli\n",
    "        s = r0 - alpha*v\n",
    "        t = A .* s\n",
    "        omega = dot(t, s) / dot(t, t)\n",
    "        x = h + omega*s\n",
    "    # tu powinno być sprawdzanie dokładności x i jak będzie dobra to wyjdź z pętli\n",
    "        r = s - omega*t\n",
    "    end\n",
    "    return x\n",
    "end"
   ]
  },
  {
   "cell_type": "code",
   "execution_count": null,
   "id": "c706a29c",
   "metadata": {},
   "outputs": [],
   "source": []
  }
 ],
 "metadata": {
  "kernelspec": {
   "display_name": "Julia 1.6.1",
   "language": "julia",
   "name": "julia-1.6"
  },
  "language_info": {
   "file_extension": ".jl",
   "mimetype": "application/julia",
   "name": "julia",
   "version": "1.6.1"
  }
 },
 "nbformat": 4,
 "nbformat_minor": 5
}
