{
 "cells": [
  {
   "cell_type": "markdown",
   "id": "f4917fa6",
   "metadata": {},
   "source": [
    "# Imports"
   ]
  },
  {
   "cell_type": "code",
   "execution_count": 1,
   "id": "b70c9d12",
   "metadata": {},
   "outputs": [],
   "source": [
    "using LinearAlgebra\n",
    "using SparseArrays\n",
    "using Distributions\n",
    "using PyCall\n",
    "using Statistics\n",
    "using BenchmarkTools\n",
    "\n",
    "@pyimport numpy "
   ]
  },
  {
   "cell_type": "markdown",
   "id": "464b416f",
   "metadata": {},
   "source": [
    "# GMRES"
   ]
  },
  {
   "cell_type": "code",
   "execution_count": 105,
   "id": "a339d1e6",
   "metadata": {},
   "outputs": [
    {
     "data": {
      "text/plain": [
       "gmres (generic function with 3 methods)"
      ]
     },
     "execution_count": 105,
     "metadata": {},
     "output_type": "execute_result"
    }
   ],
   "source": [
    "function gmres(A, B, X0, max_iter)\n",
    "    r = B - A * X0\n",
    "    x = NaN\n",
    "    q = Array{Any}(zeros(max_iter)) #array any, gdyż przechowuje i wektory i pojedyncze liczby \n",
    "    q[1] = r/norm(r)\n",
    "    h = zeros((max_iter + 1, max_iter))\n",
    "    \n",
    "    #for m=1:max_iter\n",
    "    for m=1:min(max_iter, size(A, 1))\n",
    "        y = A * q[m]\n",
    "        \n",
    "        #for j=1:m-1\n",
    "        for j=1:m\n",
    "            h[j, m] = (q[j]' * y)[1]\n",
    "            y = y - h[j, m] * q[j] \n",
    "        end\n",
    "        \n",
    "        h[m + 1, m] = norm(y)\n",
    "        \n",
    "        if (h[m + 1, m] != 0) && (m != max_iter)\n",
    "            q[m + 1] = y / h[m + 1, m]\n",
    "        end\n",
    "\n",
    "        b = zeros(max_iter + 1)\n",
    "        b[1] = norm(r)\n",
    "        result = (h \\ b)\n",
    "\n",
    "        if m > max_iter - 2\n",
    "            z = reduce(hcat, q[:])\n",
    "        else\n",
    "            z = q\n",
    "        end\n",
    "        \n",
    "        x = numpy.dot(z, result)+X0\n",
    "        \n",
    "    end\n",
    "    \n",
    "    return x\n",
    "end"
   ]
  },
  {
   "cell_type": "markdown",
   "id": "205dc27e",
   "metadata": {},
   "source": [
    "# Restarted GMRES"
   ]
  },
  {
   "cell_type": "code",
   "execution_count": 106,
   "id": "a42cc467",
   "metadata": {},
   "outputs": [
    {
     "data": {
      "text/plain": [
       "restarted_gmres (generic function with 2 methods)"
      ]
     },
     "execution_count": 106,
     "metadata": {},
     "output_type": "execute_result"
    }
   ],
   "source": [
    "function restarted_gmres(A, B, X0, max_iter, res)\n",
    "    new_x0 = gmres(A, B, X0, res)\n",
    "    for i=2*res:res:max_iter\n",
    "        new_x0 = gmres(A, B, new_x0, res)\n",
    "    end\n",
    "    return new_x0\n",
    "end"
   ]
  },
  {
   "cell_type": "markdown",
   "id": "ca34e01b",
   "metadata": {},
   "source": [
    "# BICGSTAB"
   ]
  },
  {
   "cell_type": "code",
   "execution_count": 26,
   "id": "327341f5",
   "metadata": {},
   "outputs": [
    {
     "data": {
      "text/plain": [
       "bicgstab (generic function with 1 method)"
      ]
     },
     "execution_count": 26,
     "metadata": {},
     "output_type": "execute_result"
    }
   ],
   "source": [
    "function bicgstab(A, B, init_guess, iterations, accuracy)\n",
    "    x_prev = init_guess\n",
    "    r_prev = B - A*x_prev\n",
    "    r0_arb = r_prev\n",
    "    rho_prev = alpha = omega_prev = 1.0\n",
    "    v_prev = p_prev = rho = 0.0\n",
    "    result = NaN\n",
    "    for iter = 1:iterations\n",
    "        rho = dot(r0_arb, r_prev)\n",
    "        beta = (rho/rho_prev) * (alpha/omega_prev)\n",
    "        p = r_prev .+ (beta* (p_prev - omega_prev * v_prev))\n",
    "        v = A * p\n",
    "        alpha = rho'/(dot(r0_arb, v))\n",
    "        h = x_prev + alpha*p\n",
    "        s = r_prev - alpha*v\n",
    "        if(norm(s) < accuracy)\n",
    "            result = h\n",
    "            break\n",
    "        end\n",
    "        t = A * s\n",
    "        omega = dot(t, s) / dot(t, t)\n",
    "        x = h + omega*s\n",
    "        r = s - omega*t\n",
    "        if(norm(r) < accuracy)\n",
    "            result = x\n",
    "            break\n",
    "        end\n",
    "        r_prev = r\n",
    "        x_prev = x\n",
    "        p_prev = p\n",
    "        v_prev = v\n",
    "        omega_prev = omega\n",
    "        rho_prev = rho\n",
    "    end\n",
    "    return result\n",
    "end"
   ]
  },
  {
   "cell_type": "code",
   "execution_count": 114,
   "id": "3b3e4a1b",
   "metadata": {},
   "outputs": [
    {
     "data": {
      "text/plain": [
       "200×1 Matrix{Float64}:\n",
       " 0.19327237733312264\n",
       " 0.9622757584734905\n",
       " 0.6820618916367365\n",
       " 0.8604539566607095\n",
       " 0.45196051381025293\n",
       " 0.03304491012672628\n",
       " 0.36054911622040486\n",
       " 0.4619360531758918\n",
       " 0.16973340366602474\n",
       " 0.7749697216800286\n",
       " 0.2841398322034647\n",
       " 0.8002293356941543\n",
       " 0.698832616200092\n",
       " ⋮\n",
       " 0.2366238337691684\n",
       " 0.16797819768652533\n",
       " 0.6457323934950034\n",
       " 0.26795140947849716\n",
       " 0.3167249758141737\n",
       " 0.5503644604405664\n",
       " 0.5387498523355869\n",
       " 0.3237331069532885\n",
       " 0.07166677396785093\n",
       " 0.012073813159654723\n",
       " 0.6642974944794033\n",
       " 0.09602991319966403"
      ]
     },
     "execution_count": 114,
     "metadata": {},
     "output_type": "execute_result"
    }
   ],
   "source": [
    "#generacja macierzy A oraz wektorów B i X0\n",
    "sizee = 200\n",
    "A = Symmetric(sprand(sizee,sizee,0.5))\n",
    "B = rand(Uniform(0,1), sizee, 1)\n",
    "X0 = rand(Uniform(0,1), sizee, 1)"
   ]
  },
  {
   "cell_type": "code",
   "execution_count": 123,
   "id": "177a09f9",
   "metadata": {},
   "outputs": [
    {
     "data": {
      "text/plain": [
       "1.0e-10"
      ]
     },
     "execution_count": 123,
     "metadata": {},
     "output_type": "execute_result"
    }
   ],
   "source": [
    "#gmres\n",
    "max_iter = 500\n",
    "res = 150\n",
    "\n",
    "#bicgstab\n",
    "accuracy = 1e-10"
   ]
  },
  {
   "cell_type": "code",
   "execution_count": 116,
   "id": "d0477a97",
   "metadata": {},
   "outputs": [
    {
     "data": {
      "text/plain": [
       "200×1 Matrix{Float64}:\n",
       " -0.4905537058445198\n",
       " -0.41326485921487893\n",
       " -0.33194836885398316\n",
       " -0.3258009107818391\n",
       "  0.4761335071870722\n",
       " -0.2076850788308544\n",
       "  0.5692231259136883\n",
       "  0.9627746663812078\n",
       "  0.009428632682884672\n",
       " -0.11719633849673634\n",
       " -0.8772739856669994\n",
       "  0.16929144553006728\n",
       " -0.26149072780023463\n",
       "  ⋮\n",
       "  0.10653880994739161\n",
       "  0.2391583978935533\n",
       " -0.08749999364363124\n",
       " -0.43512886247629834\n",
       " -0.657780057302917\n",
       "  0.033482459197242916\n",
       " -0.3229007365240274\n",
       "  0.3949663068216457\n",
       " -0.46783512441896796\n",
       " -0.22909727024877657\n",
       " -0.21348027521689547\n",
       "  0.544816843441575"
      ]
     },
     "execution_count": 116,
     "metadata": {},
     "output_type": "execute_result"
    }
   ],
   "source": [
    "x3 = A\\B"
   ]
  },
  {
   "cell_type": "code",
   "execution_count": 124,
   "id": "ae598e64",
   "metadata": {},
   "outputs": [
    {
     "data": {
      "text/plain": [
       "200×1 Matrix{Float64}:\n",
       " -0.4905537058445191\n",
       " -0.41326485921487666\n",
       " -0.33194836885397955\n",
       " -0.3258009107818365\n",
       "  0.4761335071870796\n",
       " -0.2076850788308483\n",
       "  0.5692231259136901\n",
       "  0.9627746663812059\n",
       "  0.009428632682882963\n",
       " -0.11719633849673108\n",
       " -0.8772739856669938\n",
       "  0.16929144553007391\n",
       " -0.26149072780023486\n",
       "  ⋮\n",
       "  0.10653880994739139\n",
       "  0.23915839789355517\n",
       " -0.08749999364363259\n",
       " -0.43512886247630145\n",
       " -0.6577800573029172\n",
       "  0.033482459197247356\n",
       " -0.3229007365240325\n",
       "  0.394966306821641\n",
       " -0.4678351244189623\n",
       " -0.2290972702487843\n",
       " -0.21348027521689217\n",
       "  0.5448168434415765"
      ]
     },
     "execution_count": 124,
     "metadata": {},
     "output_type": "execute_result"
    }
   ],
   "source": [
    "x2 = restarted_gmres(A, B, X0, 10*max_iter, res)\n",
    "#x2 = gmres(A, B, X0, max_iter, accuracy, x3)"
   ]
  },
  {
   "cell_type": "code",
   "execution_count": 125,
   "id": "1f5ac454",
   "metadata": {},
   "outputs": [
    {
     "data": {
      "text/plain": [
       "200×1 Matrix{Float64}:\n",
       " -0.49055370584453417\n",
       " -0.41326485921491285\n",
       " -0.33194836885400925\n",
       " -0.32580091078187023\n",
       "  0.4761335071870769\n",
       " -0.20768507883088155\n",
       "  0.5692231259136918\n",
       "  0.9627746663812592\n",
       "  0.00942863268289637\n",
       " -0.11719633849676847\n",
       " -0.8772739856670171\n",
       "  0.1692914455300838\n",
       " -0.26149072780023275\n",
       "  ⋮\n",
       "  0.10653880994737913\n",
       "  0.23915839789356283\n",
       " -0.08749999364364724\n",
       " -0.43512886247631644\n",
       " -0.6577800573029214\n",
       "  0.033482459197208825\n",
       " -0.32290073652402584\n",
       "  0.39496630682165584\n",
       " -0.4678351244189779\n",
       " -0.2290972702487691\n",
       " -0.2134802752169016\n",
       "  0.5448168434416039"
      ]
     },
     "execution_count": 125,
     "metadata": {},
     "output_type": "execute_result"
    }
   ],
   "source": [
    "xd = gmres(A, B, X0, max_iter)"
   ]
  },
  {
   "cell_type": "code",
   "execution_count": 129,
   "id": "5b98a8ee",
   "metadata": {},
   "outputs": [
    {
     "data": {
      "text/plain": [
       "NaN"
      ]
     },
     "execution_count": 129,
     "metadata": {},
     "output_type": "execute_result"
    }
   ],
   "source": [
    "x1 = bicgstab(A, B, X0, max_iter, accuracy)"
   ]
  },
  {
   "cell_type": "code",
   "execution_count": 127,
   "id": "039f47a7",
   "metadata": {},
   "outputs": [
    {
     "name": "stdout",
     "output_type": "stream",
     "text": [
      "restarted:\n",
      "2.8495706228676145e-15\n",
      "base:\n",
      "1.6406135347826757e-14\n"
     ]
    }
   ],
   "source": [
    "#absolute error\n",
    "abs_res = broadcast(abs, x2-x3)\n",
    "abs_normal = broadcast(abs, xd-x3)\n",
    "\n",
    "mean_abs_res = mean(abs_res)\n",
    "mean_abs_normal = mean(abs_normal)\n",
    "\n",
    "println(\"restarted:\")\n",
    "println(mean_abs_res)\n",
    "println(\"base:\")\n",
    "println(mean_abs_normal)"
   ]
  },
  {
   "cell_type": "code",
   "execution_count": 128,
   "id": "d11f5d93",
   "metadata": {},
   "outputs": [
    {
     "name": "stdout",
     "output_type": "stream",
     "text": [
      "restarted:\n",
      "4.678287332097696e-13\n",
      "base:\n",
      "2.0531274930885808e-12\n"
     ]
    }
   ],
   "source": [
    "#relative error (percentage)\n",
    "rel_res = abs_res./x2 * 100\n",
    "rel_normal = abs_normal./xd * 100\n",
    "\n",
    "mean_rel_res = abs(mean(rel_res))\n",
    "mean_rel_normal = abs(mean(rel_normal))\n",
    "\n",
    "println(\"restarted:\")\n",
    "println(mean_rel_res)\n",
    "println(\"base:\")\n",
    "println(mean_rel_normal)"
   ]
  },
  {
   "cell_type": "code",
   "execution_count": null,
   "id": "c706a29c",
   "metadata": {},
   "outputs": [],
   "source": []
  }
 ],
 "metadata": {
  "kernelspec": {
   "display_name": "Julia 1.6.1",
   "language": "julia",
   "name": "julia-1.6"
  },
  "language_info": {
   "file_extension": ".jl",
   "mimetype": "application/julia",
   "name": "julia",
   "version": "1.6.1"
  }
 },
 "nbformat": 4,
 "nbformat_minor": 5
}
