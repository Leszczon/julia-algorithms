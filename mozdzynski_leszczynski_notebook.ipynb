{
 "cells": [
  {
   "cell_type": "markdown",
   "metadata": {},
   "source": [
    "# Imports"
   ]
  },
  {
   "cell_type": "code",
   "execution_count": 1,
   "metadata": {},
   "outputs": [],
   "source": [
    "using LinearAlgebra\n",
    "using SparseArrays\n",
    "using Distributions\n",
    "using PyCall\n",
    "using Statistics\n",
    "using BenchmarkTools\n",
    "\n",
    "@pyimport numpy "
   ]
  },
  {
   "cell_type": "markdown",
   "metadata": {},
   "source": [
    "# GMRES"
   ]
  },
  {
   "cell_type": "code",
   "execution_count": 2,
   "metadata": {},
   "outputs": [
    {
     "data": {
      "text/plain": [
       "gmres (generic function with 1 method)"
      ]
     },
     "execution_count": 2,
     "metadata": {},
     "output_type": "execute_result"
    }
   ],
   "source": [
    "function gmres(A, B, X0, max_iter)\n",
    "    r = B - A * X0\n",
    "    x = NaN\n",
    "    q = Array{Any}(zeros(max_iter)) #array any, gdyż przechowuje i wektory i pojedyncze liczby \n",
    "    q[1] = r/norm(r)\n",
    "    h = zeros((max_iter + 1, max_iter))\n",
    "    \n",
    "    #for m=1:max_iter\n",
    "    for m=1:min(max_iter, size(A, 1))\n",
    "        y = A * q[m]\n",
    "        \n",
    "        #for j=1:m-1\n",
    "        for j=1:m\n",
    "            h[j, m] = (q[j]' * y)[1]\n",
    "            y = y - h[j, m] * q[j] \n",
    "        end\n",
    "        \n",
    "        h[m + 1, m] = norm(y)\n",
    "        \n",
    "        if (h[m + 1, m] != 0) && (m != max_iter)\n",
    "            q[m + 1] = y / h[m + 1, m]\n",
    "        end\n",
    "\n",
    "        b = zeros(max_iter + 1)\n",
    "        b[1] = norm(r)\n",
    "        result = (h \\ b)\n",
    "\n",
    "        if m > max_iter - 2\n",
    "            z = reduce(hcat, q[:])\n",
    "        else\n",
    "            z = q\n",
    "        end\n",
    "        \n",
    "        x = numpy.dot(z, result)+X0\n",
    "        \n",
    "    end\n",
    "    \n",
    "    return x\n",
    "end"
   ]
  },
  {
   "cell_type": "markdown",
   "metadata": {},
   "source": [
    "# Restarted GMRES"
   ]
  },
  {
   "cell_type": "code",
   "execution_count": 3,
   "metadata": {},
   "outputs": [
    {
     "data": {
      "text/plain": [
       "restarted_gmres (generic function with 1 method)"
      ]
     },
     "execution_count": 3,
     "metadata": {},
     "output_type": "execute_result"
    }
   ],
   "source": [
    "function restarted_gmres(A, B, X0, max_iter, res)\n",
    "    new_x0 = gmres(A, B, X0, res)\n",
    "    for i=2*res:res:max_iter\n",
    "        new_x0 = gmres(A, B, new_x0, res)\n",
    "    end\n",
    "    return new_x0\n",
    "end"
   ]
  },
  {
   "cell_type": "markdown",
   "metadata": {},
   "source": [
    "# BICGSTAB"
   ]
  },
  {
   "cell_type": "code",
   "execution_count": 11,
   "metadata": {},
   "outputs": [
    {
     "data": {
      "text/plain": [
       "bicgstab (generic function with 1 method)"
      ]
     },
     "execution_count": 11,
     "metadata": {},
     "output_type": "execute_result"
    }
   ],
   "source": [
    "function bicgstab(A, B, init_guess, iterations, accuracy)\n",
    "    x_prev = init_guess\n",
    "    r_prev = B - A*x_prev\n",
    "    r0_arb = r_prev\n",
    "    rho_prev = alpha = omega_prev = 1.0\n",
    "    v_prev = p_prev = rho = 0.0\n",
    "    result = NaN\n",
    "    for iter = 1:iterations\n",
    "        rho = dot(r0_arb, r_prev)\n",
    "        beta = (rho/rho_prev) * (alpha/omega_prev)\n",
    "        p = r_prev .+ (beta* (p_prev - omega_prev * v_prev))\n",
    "        v = A * p\n",
    "        alpha = rho'/(dot(r0_arb, v))\n",
    "        h = x_prev + alpha*p\n",
    "        s = r_prev - alpha*v\n",
    "        if(norm(s) < accuracy)\n",
    "            result = h\n",
    "            break\n",
    "        end\n",
    "        t = A * s\n",
    "        omega = dot(t, s) / dot(t, t)\n",
    "        x = h + omega*s\n",
    "        r = s - omega*t\n",
    "        if(norm(r) < accuracy || iter == iterations)\n",
    "            result = x\n",
    "            break\n",
    "        end\n",
    "        r_prev = r\n",
    "        x_prev = x\n",
    "        p_prev = p\n",
    "        v_prev = v\n",
    "        omega_prev = omega\n",
    "        rho_prev = rho\n",
    "    end\n",
    "    return result\n",
    "end"
   ]
  },
  {
   "cell_type": "code",
   "execution_count": 5,
   "metadata": {},
   "outputs": [
    {
     "data": {
      "text/plain": [
       "200×1 Matrix{Float64}:\n",
       " 0.7847887768131281\n",
       " 0.8302573038249981\n",
       " 0.1940030487189599\n",
       " 0.998688686473242\n",
       " 0.2720887121865525\n",
       " 0.3186591139782702\n",
       " 0.8062995405074715\n",
       " 0.17754942955472486\n",
       " 0.03841199474028634\n",
       " 0.4120192376172096\n",
       " 0.2684315614071884\n",
       " 0.5873698251693249\n",
       " 0.24291303760374716\n",
       " ⋮\n",
       " 0.17324965519832647\n",
       " 0.27087110869735653\n",
       " 0.4496249904692653\n",
       " 0.6435854092925153\n",
       " 0.02639690016853491\n",
       " 0.7072451920279086\n",
       " 0.4716496109209558\n",
       " 0.04305849867958167\n",
       " 0.3089653992187136\n",
       " 0.9004617639055681\n",
       " 0.9470470374110058\n",
       " 0.12514512605754535"
      ]
     },
     "execution_count": 5,
     "metadata": {},
     "output_type": "execute_result"
    }
   ],
   "source": [
    "#generacja macierzy A oraz wektorów B i X0\n",
    "sizee = 200\n",
    "A = Symmetric(sprand(sizee,sizee,0.5))\n",
    "B = rand(Uniform(0,1), sizee, 1)\n",
    "X0 = rand(Uniform(0,1), sizee, 1)"
   ]
  },
  {
   "cell_type": "code",
   "execution_count": 6,
   "metadata": {},
   "outputs": [
    {
     "data": {
      "text/plain": [
       "1.0e-10"
      ]
     },
     "execution_count": 6,
     "metadata": {},
     "output_type": "execute_result"
    }
   ],
   "source": [
    "#gmres\n",
    "max_iter = 500\n",
    "res = 150\n",
    "\n",
    "#bicgstab\n",
    "accuracy = 1e-10"
   ]
  },
  {
   "cell_type": "code",
   "execution_count": 7,
   "metadata": {},
   "outputs": [
    {
     "data": {
      "text/plain": [
       "200×1 Matrix{Float64}:\n",
       " -0.39245624969643517\n",
       " -0.0874632637470291\n",
       "  0.31297419729249576\n",
       "  1.2223080519414389\n",
       "  0.060686675617901246\n",
       "  0.6034493759137114\n",
       " -0.1696955964225211\n",
       "  0.0732531040955664\n",
       "  0.2052349310122986\n",
       " -0.33915178657939665\n",
       " -0.42268980053968147\n",
       "  0.1422193374314493\n",
       "  0.3613285624580537\n",
       "  ⋮\n",
       "  1.419490345142858\n",
       " -0.38582957232255205\n",
       " -0.08561411847323368\n",
       "  0.04553962226053972\n",
       "  0.28534300913841404\n",
       "  0.15250014708425827\n",
       "  0.8437471034485475\n",
       "  0.2353880176281848\n",
       "  0.3131646174078803\n",
       "  0.39130486062795816\n",
       "  0.2581513818770215\n",
       " -0.1136130333004839"
      ]
     },
     "execution_count": 7,
     "metadata": {},
     "output_type": "execute_result"
    }
   ],
   "source": [
    "x3 = A\\B"
   ]
  },
  {
   "cell_type": "code",
   "execution_count": 8,
   "metadata": {},
   "outputs": [
    {
     "data": {
      "text/plain": [
       "200×1 Matrix{Float64}:\n",
       " -0.39245624973945903\n",
       " -0.08746326380470033\n",
       "  0.31297419717275476\n",
       "  1.2223080517210587\n",
       "  0.06068667563054799\n",
       "  0.6034493758200269\n",
       " -0.1696955964245243\n",
       "  0.07325310408465323\n",
       "  0.2052349310294478\n",
       " -0.3391517864718118\n",
       " -0.42268980048941707\n",
       "  0.14221933751151544\n",
       "  0.36132856242543737\n",
       "  ⋮\n",
       "  1.4194903449769911\n",
       " -0.38582957231814646\n",
       " -0.08561411847505594\n",
       "  0.045539622249904384\n",
       "  0.2853430089992492\n",
       "  0.15250014701010786\n",
       "  0.8437471032534616\n",
       "  0.23538801757302424\n",
       "  0.3131646173497909\n",
       "  0.391304860649726\n",
       "  0.25815138181469227\n",
       " -0.11361303326052084"
      ]
     },
     "execution_count": 8,
     "metadata": {},
     "output_type": "execute_result"
    }
   ],
   "source": [
    "x2 = restarted_gmres(A, B, X0, 10*max_iter, res)\n",
    "#x2 = gmres(A, B, X0, max_iter, accuracy, x3)"
   ]
  },
  {
   "cell_type": "code",
   "execution_count": 9,
   "metadata": {},
   "outputs": [
    {
     "data": {
      "text/plain": [
       "200×1 Matrix{Float64}:\n",
       " -0.39245624969642745\n",
       " -0.08746326374701086\n",
       "  0.3129741972924876\n",
       "  1.222308051941406\n",
       "  0.06068667561786961\n",
       "  0.6034493759137154\n",
       " -0.16969559642252952\n",
       "  0.07325310409556293\n",
       "  0.20523493101230988\n",
       " -0.33915178657940137\n",
       " -0.42268980053964544\n",
       "  0.14221933743145165\n",
       "  0.3613285624580641\n",
       "  ⋮\n",
       "  1.4194903451428418\n",
       " -0.3858295723225451\n",
       " -0.08561411847323597\n",
       "  0.04553962226056729\n",
       "  0.2853430091383826\n",
       "  0.1525001470842694\n",
       "  0.8437471034485379\n",
       "  0.235388017628167\n",
       "  0.3131646174078442\n",
       "  0.3913048606279643\n",
       "  0.25815138187699405\n",
       " -0.11361303330046141"
      ]
     },
     "execution_count": 9,
     "metadata": {},
     "output_type": "execute_result"
    }
   ],
   "source": [
    "xd = gmres(A, B, X0, max_iter)"
   ]
  },
  {
   "cell_type": "code",
   "execution_count": 12,
   "metadata": {},
   "outputs": [
    {
     "data": {
      "text/plain": [
       "200×1 Matrix{Float64}:\n",
       " -0.39243004510513024\n",
       " -0.08750884423750908\n",
       "  0.31289425487590383\n",
       "  1.2223353662136163\n",
       "  0.06075251650420016\n",
       "  0.6034147319536532\n",
       " -0.16966880336821413\n",
       "  0.073272478010443\n",
       "  0.2052265036431813\n",
       " -0.33912746526631526\n",
       " -0.4227271774406036\n",
       "  0.1422223451237996\n",
       "  0.36130977380060286\n",
       "  ⋮\n",
       "  1.4194592268946384\n",
       " -0.3858456681909332\n",
       " -0.08563458674472453\n",
       "  0.04545836452530903\n",
       "  0.28536959989651806\n",
       "  0.1524818976257694\n",
       "  0.8437007606991952\n",
       "  0.23542574090642693\n",
       "  0.3132197145678225\n",
       "  0.39129513288769363\n",
       "  0.2581595544803807\n",
       " -0.11364437971373698"
      ]
     },
     "execution_count": 12,
     "metadata": {},
     "output_type": "execute_result"
    }
   ],
   "source": [
    "x1 = bicgstab(A, B, X0, max_iter, accuracy)"
   ]
  },
  {
   "cell_type": "code",
   "execution_count": 127,
   "metadata": {},
   "outputs": [
    {
     "name": "stdout",
     "output_type": "stream",
     "text": [
      "restarted:\n",
      "2.8495706228676145e-15\n",
      "base:\n",
      "1.6406135347826757e-14\n"
     ]
    }
   ],
   "source": [
    "#absolute error\n",
    "abs_res = broadcast(abs, x2-x3)\n",
    "abs_normal = broadcast(abs, xd-x3)\n",
    "\n",
    "mean_abs_res = mean(abs_res)\n",
    "mean_abs_normal = mean(abs_normal)\n",
    "\n",
    "println(\"restarted:\")\n",
    "println(mean_abs_res)\n",
    "println(\"base:\")\n",
    "println(mean_abs_normal)"
   ]
  },
  {
   "cell_type": "code",
   "execution_count": 128,
   "metadata": {},
   "outputs": [
    {
     "name": "stdout",
     "output_type": "stream",
     "text": [
      "restarted:\n",
      "4.678287332097696e-13\n",
      "base:\n",
      "2.0531274930885808e-12\n"
     ]
    }
   ],
   "source": [
    "#relative error (percentage)\n",
    "rel_res = abs_res./x2 * 100\n",
    "rel_normal = abs_normal./xd * 100\n",
    "\n",
    "mean_rel_res = abs(mean(rel_res))\n",
    "mean_rel_normal = abs(mean(rel_normal))\n",
    "\n",
    "println(\"restarted:\")\n",
    "println(mean_rel_res)\n",
    "println(\"base:\")\n",
    "println(mean_rel_normal)"
   ]
  },
  {
   "cell_type": "code",
   "execution_count": null,
   "metadata": {},
   "outputs": [],
   "source": []
  }
 ],
 "metadata": {
  "kernelspec": {
   "display_name": "Julia 1.6.1",
   "language": "julia",
   "name": "julia-1.6"
  },
  "language_info": {
   "file_extension": ".jl",
   "mimetype": "application/julia",
   "name": "julia",
   "version": "1.6.1"
  }
 },
 "nbformat": 4,
 "nbformat_minor": 5
}
