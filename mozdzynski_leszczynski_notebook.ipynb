{
 "cells": [
  {
   "cell_type": "markdown",
   "id": "f4917fa6",
   "metadata": {},
   "source": [
    "# Imports"
   ]
  },
  {
   "cell_type": "code",
   "execution_count": 2,
   "id": "b70c9d12",
   "metadata": {},
   "outputs": [],
   "source": [
    "using LinearAlgebra\n",
    "using SparseArrays\n",
    "using Distributions\n",
    "using PyCall\n",
    "using Statistics\n",
    "using BenchmarkTools\n",
    "\n",
    "@pyimport numpy "
   ]
  },
  {
   "cell_type": "markdown",
   "id": "0d8f8c08",
   "metadata": {},
   "source": [
    "# GMRES"
   ]
  },
  {
   "cell_type": "code",
   "execution_count": 110,
   "id": "a2cb2eca",
   "metadata": {},
   "outputs": [
    {
     "data": {
      "text/plain": [
       "gmres (generic function with 2 methods)"
      ]
     },
     "execution_count": 110,
     "metadata": {},
     "output_type": "execute_result"
    }
   ],
   "source": [
    "function gmres(A, B, X0, max_iter)\n",
    "    r = B - A * X0\n",
    "    x = X0\n",
    "    q = Array{Any}(zeros(max_iter)) #array any, gdyż przechowuje i wektory i pojedyncze liczby \n",
    "    q[1] = r/norm(r)\n",
    "    h = zeros((max_iter + 1, max_iter))\n",
    "    \n",
    "    for m=1:max_iter\n",
    "        y = A * q[m]\n",
    "        \n",
    "        for j=1:m-1\n",
    "            h[j, m] = (q[j]' * y)[1]\n",
    "            y = y - h[j, m] * q[j] \n",
    "        end\n",
    "        \n",
    "        h[m + 1, m] = norm(y)\n",
    "        \n",
    "        if (h[m + 1, m] != 0) && (m != max_iter)\n",
    "            q[m + 1] = y / h[m + 1, m]\n",
    "        end\n",
    "\n",
    "        b = zeros(max_iter + 1)\n",
    "        b[1] = norm(r)\n",
    "        result = (h \\ b)\n",
    "\n",
    "        if m > max_iter - 2\n",
    "            z = reduce(hcat, q[:])\n",
    "        else\n",
    "            z = q\n",
    "        end\n",
    "        \n",
    "        x = numpy.dot(z, result)+X0\n",
    "   \n",
    "    end\n",
    "    \n",
    "    return x\n",
    "end"
   ]
  },
  {
   "cell_type": "markdown",
   "id": "19713d0e",
   "metadata": {},
   "source": [
    "# Restarted GMRES"
   ]
  },
  {
   "cell_type": "code",
   "execution_count": 109,
   "id": "a42cc467",
   "metadata": {},
   "outputs": [
    {
     "data": {
      "text/plain": [
       "restarted_gmres (generic function with 2 methods)"
      ]
     },
     "execution_count": 109,
     "metadata": {},
     "output_type": "execute_result"
    }
   ],
   "source": [
    "function restarted_gmres(A, B, X0, max_iter, res)\n",
    "    new_x0 = gmres(A, B, X0, res, accuracy)\n",
    "    for i=2*res:res:max_iter\n",
    "        new_x0 = gmres(A, B, new_x0, res, accuracy)\n",
    "    end\n",
    "    return new_x0\n",
    "end"
   ]
  },
  {
   "cell_type": "markdown",
   "id": "13fe8610",
   "metadata": {},
   "source": [
    "# BICGSTAB"
   ]
  },
  {
   "cell_type": "code",
   "execution_count": 114,
   "id": "ba13adc2",
   "metadata": {},
   "outputs": [
    {
     "data": {
      "text/plain": [
       "bicgstab (generic function with 1 method)"
      ]
     },
     "execution_count": 114,
     "metadata": {},
     "output_type": "execute_result"
    }
   ],
   "source": [
    "function bicgstab(A, B, init_guess, iterations, accuracy)\n",
    "    x_prev = init_guess\n",
    "    r_prev = B - A*x_prev\n",
    "    r0_arb = r_prev\n",
    "    rho_prev = alpha = omega_prev = 1.0\n",
    "    v_prev = p_prev = rho = 0.0\n",
    "    result = NaN\n",
    "    for iter = 1:iterations\n",
    "        rho = dot(r0_arb, r_prev)\n",
    "        beta = (rho/rho_prev) * (alpha/omega_prev)\n",
    "        p = r_prev .+ (beta* (p_prev - omega_prev * v_prev))\n",
    "        v = A * p\n",
    "        alpha = rho'/(dot(r0_arb, v))\n",
    "        h = x_prev + alpha*p\n",
    "        s = r_prev - alpha*v\n",
    "        if(norm(s) < accuracy)\n",
    "            result = h\n",
    "            break\n",
    "        end\n",
    "        t = A * s\n",
    "        omega = dot(t, s) / dot(t, t)\n",
    "        x = h + omega*s\n",
    "        r = s - omega*t\n",
    "        if(norm(r) < accuracy)\n",
    "            result = x\n",
    "            break\n",
    "        end\n",
    "        r_prev = r\n",
    "        x_prev = x\n",
    "        p_prev = p\n",
    "        v_prev = v\n",
    "        omega_prev = omega\n",
    "        rho_prev = rho\n",
    "    end\n",
    "    return result\n",
    "end"
   ]
  },
  {
   "cell_type": "code",
   "execution_count": 6,
   "id": "3b3e4a1b",
   "metadata": {},
   "outputs": [
    {
     "data": {
      "text/plain": [
       "40×1 Matrix{Float64}:\n",
       " 0.2867310900467752\n",
       " 0.9507270393987897\n",
       " 0.9171843288642247\n",
       " 0.32064561268506453\n",
       " 0.8802631294087755\n",
       " 0.20746947907597235\n",
       " 0.869464060184971\n",
       " 0.853819347919009\n",
       " 0.84276397307029\n",
       " 0.23783082191392513\n",
       " 0.5013404252325211\n",
       " 0.026314890278079872\n",
       " 0.3255691059459662\n",
       " ⋮\n",
       " 0.74562344782902\n",
       " 0.6456796946324386\n",
       " 0.990812385158695\n",
       " 0.6578170096152036\n",
       " 0.22477399524783648\n",
       " 0.7160939076836463\n",
       " 0.9614736632872207\n",
       " 0.9039640228687327\n",
       " 0.7579941751238493\n",
       " 0.723459833197156\n",
       " 0.7975745064661071\n",
       " 0.3867196598087368"
      ]
     },
     "execution_count": 6,
     "metadata": {},
     "output_type": "execute_result"
    }
   ],
   "source": [
    "#generacja macierzy A oraz wektorów B i X0\n",
    "A = Symmetric(sprand(40,40,0.5))\n",
    "B = rand(Uniform(0,1), 40, 1)\n",
    "X0 = rand(Uniform(0,1), 40, 1)"
   ]
  },
  {
   "cell_type": "code",
   "execution_count": 116,
   "id": "177a09f9",
   "metadata": {},
   "outputs": [
    {
     "data": {
      "text/plain": [
       "1.0e-5"
      ]
     },
     "execution_count": 116,
     "metadata": {},
     "output_type": "execute_result"
    }
   ],
   "source": [
    "#gmres\n",
    "max_iter = 10000\n",
    "res = 150\n",
    "\n",
    "#bicgstab\n",
    "accuracy = 1e-5"
   ]
  },
  {
   "cell_type": "code",
   "execution_count": 111,
   "id": "9626731b",
   "metadata": {},
   "outputs": [
    {
     "data": {
      "text/plain": [
       "40×1 Matrix{Float64}:\n",
       " -0.7132521694867119\n",
       " -0.29341235380365427\n",
       " -1.4559211215255188\n",
       "  0.8250530418009752\n",
       "  0.15182282649290707\n",
       "  0.01251409996710051\n",
       " -0.4119954864051944\n",
       " -0.21002272278729844\n",
       "  0.23481792633304643\n",
       "  0.6135130720598987\n",
       " -0.5899350747706007\n",
       "  0.23655938518800915\n",
       " -0.4438110862898522\n",
       "  ⋮\n",
       "  0.8616213625186604\n",
       "  0.926974464997958\n",
       " -0.994877712460921\n",
       " -0.0058144654187628885\n",
       "  0.39200405277626366\n",
       " -0.22705959497074127\n",
       "  0.4529220622108363\n",
       " -0.44375442175462404\n",
       "  0.7000804830864354\n",
       "  0.46829996363600596\n",
       " -0.884254299228344\n",
       " -0.06112872415957583"
      ]
     },
     "execution_count": 111,
     "metadata": {},
     "output_type": "execute_result"
    }
   ],
   "source": [
    "x3 = A\\B"
   ]
  },
  {
   "cell_type": "code",
   "execution_count": 117,
   "id": "def5ceb4",
   "metadata": {},
   "outputs": [
    {
     "data": {
      "text/plain": [
       "40×1 Matrix{Float64}:\n",
       " -0.7132521694867114\n",
       " -0.29341235380365516\n",
       " -1.4559211215255206\n",
       "  0.8250530418009766\n",
       "  0.15182282649290776\n",
       "  0.012514099967100876\n",
       " -0.41199548640519457\n",
       " -0.21002272278729822\n",
       "  0.23481792633304807\n",
       "  0.6135130720598999\n",
       " -0.5899350747706016\n",
       "  0.23655938518800967\n",
       " -0.44381108628985416\n",
       "  ⋮\n",
       "  0.8616213625186612\n",
       "  0.9269744649979579\n",
       " -0.9948777124609222\n",
       " -0.005814465418763936\n",
       "  0.39200405277626377\n",
       " -0.22705959497074232\n",
       "  0.4529220622108376\n",
       " -0.44375442175462465\n",
       "  0.7000804830864354\n",
       "  0.46829996363600485\n",
       " -0.8842542992283449\n",
       " -0.06112872415957596"
      ]
     },
     "execution_count": 117,
     "metadata": {},
     "output_type": "execute_result"
    }
   ],
   "source": [
    "x2 = restarted_gmres(A, B, X0, max_iter, res)"
   ]
  },
  {
   "cell_type": "code",
   "execution_count": 115,
   "id": "9658537c",
   "metadata": {},
   "outputs": [
    {
     "data": {
      "text/plain": [
       "40×1 Matrix{Float64}:\n",
       " -0.713267076397744\n",
       " -0.2934155404280447\n",
       " -1.4559238616997918\n",
       "  0.8250262641415805\n",
       "  0.1518108357513359\n",
       "  0.012507268553578739\n",
       " -0.41199844386292683\n",
       " -0.21001660580002213\n",
       "  0.23478521666361202\n",
       "  0.613514796071716\n",
       " -0.5899149002490177\n",
       "  0.23655416142129063\n",
       " -0.44378284327143924\n",
       "  ⋮\n",
       "  0.8616100719034967\n",
       "  0.9270044560257114\n",
       " -0.9948603096987096\n",
       " -0.005791593020731345\n",
       "  0.3920190109851153\n",
       " -0.22704873764452269\n",
       "  0.4528924669206906\n",
       " -0.443734953662353\n",
       "  0.7000937595522012\n",
       "  0.4683291111775996\n",
       " -0.8842639585164662\n",
       " -0.06113117686810103"
      ]
     },
     "execution_count": 115,
     "metadata": {},
     "output_type": "execute_result"
    }
   ],
   "source": [
    "x1 = bicgstab(A, B, X0, max_iter, accuracy)"
   ]
  },
  {
   "cell_type": "code",
   "execution_count": 167,
   "id": "62be1bb1",
   "metadata": {},
   "outputs": [
    {
     "name": "stdout",
     "output_type": "stream",
     "text": [
      "  3.079 s (880164 allocations: 551.34 MiB)\n"
     ]
    },
    {
     "data": {
      "text/plain": [
       "40×1 Matrix{Float64}:\n",
       " -0.23204846819451797\n",
       " -8.308101367080049\n",
       " -2.567115471194662\n",
       "  1.4508256369342507\n",
       "  0.4831340884389743\n",
       " -4.164164762719872\n",
       "  3.8632384487738483\n",
       "  2.6840618379650496\n",
       " -2.8874337230338574\n",
       " -1.1157877064153898\n",
       "  0.5034822825095557\n",
       "  0.37794828944424896\n",
       " -1.599963048148649\n",
       "  ⋮\n",
       "  4.50823491731588\n",
       " -3.9779821139120557\n",
       "  2.2049374616721344\n",
       "  1.5586441408086704\n",
       " -0.6193247677578106\n",
       "  4.163307412931417\n",
       "  0.8833702080808207\n",
       "  4.947285551984006\n",
       "  0.12427055400593101\n",
       "  0.010667145736592332\n",
       " -1.1105176686001983\n",
       "  3.3775810351552003"
      ]
     },
     "execution_count": 167,
     "metadata": {},
     "output_type": "execute_result"
    }
   ],
   "source": [
    "#uruchomienie bazowego gmres\n",
    "@btime x1 = gmres(A, B, X0, max_iter)"
   ]
  },
  {
   "cell_type": "code",
   "execution_count": 168,
   "id": "05d8ae73",
   "metadata": {},
   "outputs": [
    {
     "name": "stdout",
     "output_type": "stream",
     "text": [
      "  3.036 s (3088175 allocations: 1.11 GiB)\n"
     ]
    },
    {
     "data": {
      "text/plain": [
       "40×1 Matrix{Float64}:\n",
       " -0.28540462757055657\n",
       " -8.102495879776638\n",
       " -2.453003343224105\n",
       "  1.419308479527588\n",
       "  0.5084585608950501\n",
       " -4.033054599013598\n",
       "  3.725406033193327\n",
       "  2.5557361944363515\n",
       " -2.881989628385638\n",
       " -1.0559358265819117\n",
       "  0.5081395805858652\n",
       "  0.3210887879926558\n",
       " -1.5530126375830968\n",
       "  ⋮\n",
       "  4.380354581793889\n",
       " -3.8765806226586905\n",
       "  2.221376425361447\n",
       "  1.5086395644035393\n",
       " -0.5651573373182394\n",
       "  3.995037434937755\n",
       "  0.8643909365585933\n",
       "  4.834778576252543\n",
       "  0.1481663967369528\n",
       " -0.006967589132115174\n",
       " -1.1487776544928883\n",
       "  3.2423494685363874"
      ]
     },
     "execution_count": 168,
     "metadata": {},
     "output_type": "execute_result"
    }
   ],
   "source": [
    "#uruchomienie restarted gmres\n",
    "@btime x2 = restarted_gmres(A, B, X0, max_iter*10, res)"
   ]
  },
  {
   "cell_type": "code",
   "execution_count": 169,
   "id": "8b6440c7",
   "metadata": {},
   "outputs": [
    {
     "data": {
      "text/plain": [
       "40×1 Matrix{Float64}:\n",
       " -0.25532278236600947\n",
       " -8.198219122561914\n",
       " -2.5113421107964546\n",
       "  1.434249642264954\n",
       "  0.49184416738822717\n",
       " -4.096740594700578\n",
       "  3.793049525608861\n",
       "  2.6261453449783696\n",
       " -2.8776861685827737\n",
       " -1.0885906250514517\n",
       "  0.500397443577207\n",
       "  0.35423012899185974\n",
       " -1.5753573211032137\n",
       "  ⋮\n",
       "  4.444602106411869\n",
       " -3.9234404956431406\n",
       "  2.202711403072487\n",
       "  1.5336807858085424\n",
       " -0.5936964952275787\n",
       "  4.080017202018842\n",
       "  0.8762546022177471\n",
       "  4.884134748666695\n",
       "  0.13406529528867334\n",
       "  0.0020413069147766872\n",
       " -1.1244080195620627\n",
       "  3.311790010828837"
      ]
     },
     "execution_count": 169,
     "metadata": {},
     "output_type": "execute_result"
    }
   ],
   "source": [
    "#julia linear system solver\n",
    "x3 = A\\B"
   ]
  },
  {
   "cell_type": "code",
   "execution_count": 170,
   "id": "039f47a7",
   "metadata": {},
   "outputs": [
    {
     "name": "stdout",
     "output_type": "stream",
     "text": [
      "restarted:\n",
      "0.0034461255578947885\n",
      "base:\n",
      "2.4262008063652113e-6\n"
     ]
    }
   ],
   "source": [
    "#absolute error\n",
    "abs_res = broadcast(abs, x2-x3)\n",
    "abs_normal = broadcast(abs, x1-x3)\n",
    "\n",
    "mean_abs_res = mean(abs_res)\n",
    "mean_abs_normal = mean(abs_normal)\n",
    "\n",
    "println(\"restarted:\")\n",
    "println(mean_abs_res)\n",
    "println(\"base:\")\n",
    "println(mean_abs_normal)"
   ]
  },
  {
   "cell_type": "code",
   "execution_count": 171,
   "id": "d11f5d93",
   "metadata": {},
   "outputs": [
    {
     "name": "stdout",
     "output_type": "stream",
     "text": [
      "restarted:\n",
      "1.1366593399405238\n",
      "base:\n",
      "0.000813883139218001\n"
     ]
    }
   ],
   "source": [
    "#relative error (percentage)\n",
    "rel_res = abs_res./x3 * 100\n",
    "rel_normal = abs_normal./x3 * 100\n",
    "\n",
    "mean_rel_res = abs(mean(rel_res))\n",
    "mean_rel_normal = abs(mean(rel_normal))\n",
    "\n",
    "println(\"restarted:\")\n",
    "println(mean_rel_res)\n",
    "println(\"base:\")\n",
    "println(mean_rel_normal)"
   ]
  },
  {
   "cell_type": "code",
   "execution_count": null,
   "id": "c706a29c",
   "metadata": {},
   "outputs": [],
   "source": []
  }
 ],
 "metadata": {
  "kernelspec": {
   "display_name": "Julia 1.6.1",
   "language": "julia",
   "name": "julia-1.6"
  },
  "language_info": {
   "file_extension": ".jl",
   "mimetype": "application/julia",
   "name": "julia",
   "version": "1.6.1"
  }
 },
 "nbformat": 4,
 "nbformat_minor": 5
}
